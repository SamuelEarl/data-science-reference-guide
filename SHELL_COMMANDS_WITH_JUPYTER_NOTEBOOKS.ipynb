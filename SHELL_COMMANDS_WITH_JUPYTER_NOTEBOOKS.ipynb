{
 "cells": [
  {
   "cell_type": "markdown",
   "metadata": {},
   "source": [
    "If I end up using an interactive shell with Jupyter Notebooks, then I will document the commands from the section starting on page 18 of \"Python Data Science Handbook.\""
   ]
  },
  {
   "cell_type": "markdown",
   "metadata": {},
   "source": []
  }
 ],
 "metadata": {
  "language_info": {
   "name": "python"
  }
 },
 "nbformat": 4,
 "nbformat_minor": 2
}
