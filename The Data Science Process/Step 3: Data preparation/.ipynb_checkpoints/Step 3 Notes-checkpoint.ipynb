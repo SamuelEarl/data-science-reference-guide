{
 "cells": [
  {
   "cell_type": "markdown",
   "id": "e3359557-6598-460a-8bee-fb1452131198",
   "metadata": {},
   "source": [
    "# Step 3: Data preparation (cleansing, integrating, and transforming data)\n",
    "\n",
    "Checking and remediating data errors, enriching the data with data from other data sources, and transforming it into a suitable format for your models."
   ]
  },
  {
   "cell_type": "markdown",
   "id": "6bb0f378-f3be-483a-bf4d-372bd37511b8",
   "metadata": {},
   "source": [
    "## How to read data with Pandas"
   ]
  },
  {
   "cell_type": "code",
   "execution_count": 1,
   "id": "b5357e1e-a6c2-418b-914c-52e115e152d6",
   "metadata": {},
   "outputs": [],
   "source": [
    "import pandas as pd\n",
    "\n",
    "df_sales = pd.read_csv(\"sales.csv\")\n",
    "df_user_info = pd.read_json(\"user_info.json\")"
   ]
  }
 ],
 "metadata": {
  "kernelspec": {
   "display_name": "Python 3 (ipykernel)",
   "language": "python",
   "name": "python3"
  },
  "language_info": {
   "codemirror_mode": {
    "name": "ipython",
    "version": 3
   },
   "file_extension": ".py",
   "mimetype": "text/x-python",
   "name": "python",
   "nbconvert_exporter": "python",
   "pygments_lexer": "ipython3",
   "version": "3.9.5"
  }
 },
 "nbformat": 4,
 "nbformat_minor": 5
}
