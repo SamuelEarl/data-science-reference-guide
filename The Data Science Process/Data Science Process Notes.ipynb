{
 "cells": [
  {
   "cell_type": "markdown",
   "id": "a197bb5e-dfa1-4f9a-bfd5-feba40ee788f",
   "metadata": {},
   "source": [
    "The first chapter in my book \"Exploring Data with Python\" (in my \"Data Science & Business Analytics\" → \"Python\" folder) is about the data science process. So read that for a good overview."
   ]
  }
 ],
 "metadata": {
  "kernelspec": {
   "display_name": "Python 3 (ipykernel)",
   "language": "python",
   "name": "python3"
  },
  "language_info": {
   "codemirror_mode": {
    "name": "ipython",
    "version": 3
   },
   "file_extension": ".py",
   "mimetype": "text/x-python",
   "name": "python",
   "nbconvert_exporter": "python",
   "pygments_lexer": "ipython3",
   "version": "3.9.5"
  }
 },
 "nbformat": 4,
 "nbformat_minor": 5
}
