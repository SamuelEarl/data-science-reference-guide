{
 "cells": [
  {
   "cell_type": "markdown",
   "id": "04950627-3317-4a0e-ae0f-e39fc4bea0a9",
   "metadata": {},
   "source": [
    "# Step 2: Retrieving data\n",
    "\n",
    "Finding and getting access to data needed in your project. This data is either found within the company or retrieved from a third party."
   ]
  }
 ],
 "metadata": {
  "kernelspec": {
   "display_name": "Python 3 (ipykernel)",
   "language": "python",
   "name": "python3"
  },
  "language_info": {
   "codemirror_mode": {
    "name": "ipython",
    "version": 3
   },
   "file_extension": ".py",
   "mimetype": "text/x-python",
   "name": "python",
   "nbconvert_exporter": "python",
   "pygments_lexer": "ipython3",
   "version": "3.9.5"
  }
 },
 "nbformat": 4,
 "nbformat_minor": 5
}
