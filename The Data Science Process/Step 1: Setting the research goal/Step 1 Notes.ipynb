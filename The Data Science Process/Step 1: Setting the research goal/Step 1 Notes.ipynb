{
 "cells": [
  {
   "cell_type": "markdown",
   "id": "91da6500-ac46-4699-ba47-d4b0f1e7fe24",
   "metadata": {},
   "source": [
    "# Step 1: Setting the research goal\n",
    "\n",
    "Defining the what, the why, and the how of your project in a project charter."
   ]
  }
 ],
 "metadata": {
  "kernelspec": {
   "display_name": "Python 3 (ipykernel)",
   "language": "python",
   "name": "python3"
  },
  "language_info": {
   "codemirror_mode": {
    "name": "ipython",
    "version": 3
   },
   "file_extension": ".py",
   "mimetype": "text/x-python",
   "name": "python",
   "nbconvert_exporter": "python",
   "pygments_lexer": "ipython3",
   "version": "3.9.5"
  }
 },
 "nbformat": 4,
 "nbformat_minor": 5
}
